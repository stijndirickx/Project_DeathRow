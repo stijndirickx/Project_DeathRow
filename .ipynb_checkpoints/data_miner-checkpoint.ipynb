{
 "cells": [
  {
   "cell_type": "code",
   "execution_count": 28,
   "metadata": {
    "collapsed": false,
    "scrolled": true
   },
   "outputs": [],
   "source": [
    "import pandas as pd\n",
    "import numpy as np\n",
    "import matplotlib.pyplot as plt\n",
    "df_execution = pd.read_csv(\"C:\\Users\\Stijn\\Desktop\\\\3de jaar\\Module 1\\Data mining\\Project_DeathRow\\execution_database.csv\")\n",
    "df_crime = pd.read_csv(\"C:\\Users\\Stijn\\Desktop\\\\3de jaar\\Module 1\\Data mining\\Project_DeathRow\\Crime_Alabama.csv\")"
   ]
  },
  {
   "cell_type": "code",
   "execution_count": 31,
   "metadata": {
    "collapsed": false
   },
   "outputs": [
    {
     "name": "stdout",
     "output_type": "stream",
     "text": [
      "05/04/1990\n",
      "[['1960' '   3266740' '       6097' ..., 592.1 87.3 nan]\n",
      " ['1961' '   3302000' '       5564' ..., 569.4 76.8 nan]\n",
      " ['1962' '   3358000' '       5283' ..., 634.5 83.4 nan]\n",
      " ..., \n",
      " [ '           Rates are the number of reported offenses per 100,000 population \"         Alabama - <ul><li>2011 - because of changes in the state\\'s reporting practices, figures are not comparable to previous years\\' data.</li></ul>\"'\n",
      "  nan nan ..., nan nan nan]\n",
      " ['Sources: FBI' ' Uniform Crime Reports'\n",
      "  ' prepared by the National Archive of Criminal Justice Data ' ..., nan\n",
      "  nan nan]\n",
      " ['Date of download: Oct 10 2016 ' nan nan ..., nan nan nan]]\n"
     ]
    }
   ],
   "source": [
    "print df_execution.values[99][0]\n",
    "print df_crime.values\n"
   ]
  },
  {
   "cell_type": "code",
   "execution_count": null,
   "metadata": {
    "collapsed": true
   },
   "outputs": [],
   "source": []
  },
  {
   "cell_type": "code",
   "execution_count": null,
   "metadata": {
    "collapsed": true
   },
   "outputs": [],
   "source": []
  }
 ],
 "metadata": {
  "anaconda-cloud": {},
  "kernelspec": {
   "display_name": "Python [Root]",
   "language": "python",
   "name": "Python [Root]"
  },
  "language_info": {
   "codemirror_mode": {
    "name": "ipython",
    "version": 2
   },
   "file_extension": ".py",
   "mimetype": "text/x-python",
   "name": "python",
   "nbconvert_exporter": "python",
   "pygments_lexer": "ipython2",
   "version": "2.7.12"
  }
 },
 "nbformat": 4,
 "nbformat_minor": 0
}
