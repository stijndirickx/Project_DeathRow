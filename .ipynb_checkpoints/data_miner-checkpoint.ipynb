{
 "cells": [
  {
   "cell_type": "code",
   "execution_count": 6,
   "metadata": {
    "collapsed": false,
    "scrolled": true
   },
   "outputs": [
    {
     "ename": "NameError",
     "evalue": "name 'sc' is not defined",
     "output_type": "error",
     "traceback": [
      "\u001b[1;31m---------------------------------------------------------------------------\u001b[0m",
      "\u001b[1;31mNameError\u001b[0m                                 Traceback (most recent call last)",
      "\u001b[1;32m<ipython-input-6-5776bdce8744>\u001b[0m in \u001b[0;36m<module>\u001b[1;34m()\u001b[0m\n\u001b[0;32m     55\u001b[0m     \u001b[0max\u001b[0m\u001b[1;33m.\u001b[0m\u001b[0mbar\u001b[0m\u001b[1;33m(\u001b[0m\u001b[1;33m(\u001b[0m\u001b[1;36m1\u001b[0m\u001b[1;33m,\u001b[0m \u001b[1;36m2\u001b[0m\u001b[1;33m,\u001b[0m \u001b[1;36m3\u001b[0m\u001b[1;33m,\u001b[0m \u001b[1;36m4\u001b[0m\u001b[1;33m,\u001b[0m \u001b[1;36m5\u001b[0m\u001b[1;33m,\u001b[0m \u001b[1;36m6\u001b[0m\u001b[1;33m,\u001b[0m \u001b[1;36m7\u001b[0m\u001b[1;33m,\u001b[0m \u001b[1;36m8\u001b[0m\u001b[1;33m,\u001b[0m \u001b[1;36m9\u001b[0m\u001b[1;33m,\u001b[0m \u001b[1;36m10\u001b[0m\u001b[1;33m,\u001b[0m \u001b[1;36m11\u001b[0m\u001b[1;33m,\u001b[0m \u001b[1;36m12\u001b[0m\u001b[1;33m)\u001b[0m\u001b[1;33m,\u001b[0m\u001b[1;33m(\u001b[0m\u001b[1;36m50\u001b[0m\u001b[1;33m,\u001b[0m \u001b[1;36m122\u001b[0m\u001b[1;33m,\u001b[0m \u001b[1;36m133\u001b[0m\u001b[1;33m,\u001b[0m \u001b[1;36m144\u001b[0m\u001b[1;33m,\u001b[0m \u001b[1;36m155\u001b[0m\u001b[1;33m,\u001b[0m \u001b[1;36m199\u001b[0m\u001b[1;33m,\u001b[0m \u001b[1;36m50\u001b[0m\u001b[1;33m,\u001b[0m \u001b[1;36m10\u001b[0m\u001b[1;33m,\u001b[0m \u001b[1;36m11\u001b[0m\u001b[1;33m,\u001b[0m \u001b[1;36m37\u001b[0m\u001b[1;33m,\u001b[0m \u001b[1;36m11\u001b[0m\u001b[1;33m,\u001b[0m \u001b[1;36m16\u001b[0m\u001b[1;33m)\u001b[0m \u001b[1;33m,\u001b[0m \u001b[0mcolor\u001b[0m\u001b[1;33m=\u001b[0m\u001b[1;34m'red'\u001b[0m\u001b[1;33m,\u001b[0m \u001b[0malign\u001b[0m\u001b[1;33m=\u001b[0m\u001b[1;34m'center'\u001b[0m\u001b[1;33m)\u001b[0m\u001b[1;33m\u001b[0m\u001b[0m\n\u001b[0;32m     56\u001b[0m \u001b[1;33m\u001b[0m\u001b[0m\n\u001b[1;32m---> 57\u001b[1;33m \u001b[0mmain\u001b[0m\u001b[1;33m(\u001b[0m\u001b[0msc\u001b[0m\u001b[1;33m)\u001b[0m\u001b[1;33m\u001b[0m\u001b[0m\n\u001b[0m",
      "\u001b[1;31mNameError\u001b[0m: name 'sc' is not defined"
     ]
    }
   ],
   "source": [
    "import os\n",
    "import csv\n",
    "from StringIO import StringIO\n",
    "import time\n",
    "import matplotlib.pyplot as plt\n",
    "%matplotlib inline\n",
    " \n",
    "fileDir = os.path.dirname(os.path.realpath('__file__'))\n",
    " \n",
    "## Module Constants\n",
    "APP_NAME = \"Project_DeathRow\"\n",
    "EXEC_DB_DIR = \"\\execution_database.csv\"\n",
    "ELEC = \"Electrocution\"\n",
    "INJEC = \"Lethal Injection\"\n",
    "FIRE = \"Firing Squad\"\n",
    "HANG = \"Hanging\"\n",
    "GAS = \"Gas Chamber\"\n",
    " \n",
    "def split(line):\n",
    "    \"\"\"\n",
    "   Operator function for splitting a line with csv module\n",
    "   \"\"\"\n",
    "    reader = csv.reader(StringIO(line))\n",
    "    return reader.next()\n",
    " \n",
    "def main(sc):\n",
    "    start_time = time.time()\n",
    "    deathsByElec = sc.textFile(fileDir + EXEC_DB_DIR).filter(lambda l: ',' + ELEC +',' in l)\n",
    "    deathsByInjec = sc.textFile(fileDir + EXEC_DB_DIR).filter(lambda l: ',' + INJEC +',' in l)\n",
    "    deathsByFire = sc.textFile(fileDir + EXEC_DB_DIR).filter(lambda l: ',' + FIRE +',' in l)\n",
    "    deathsByHang = sc.textFile(fileDir + EXEC_DB_DIR).filter(lambda l: ',' + HANG +',' in l)\n",
    "    deathsByGas = sc.textFile(fileDir + EXEC_DB_DIR).filter(lambda l: ',' + GAS +',' in l)\n",
    "    print(\"--- %s seconds ---\" % (time.time() - start_time))\n",
    "    makePie(deathsByElec, deathsByInjec, deathsByFire, deathsByHang, deathsByGas)\n",
    " \n",
    "def makePie(deathsByElec, deathsByInjec, deathsByFire, deathsByHang, deathsByGas):\n",
    "    elec = deathsByElec.count()\n",
    "    injec = deathsByInjec.count()\n",
    "    fire = deathsByFire.count()\n",
    "    hang = deathsByHang.count()\n",
    "    gas = deathsByGas.count()\n",
    "    labels = [ELEC, INJEC, FIRE, HANG, GAS]\n",
    "    fracs = [elec, injec, fire, hanging, gas]\n",
    "   \n",
    "    fig = plt.figure(figsize=(7, 7))\n",
    "    fig.suptitle('Way of execution', fontsize=14, fontweight='bold')\n",
    "    ax = fig.add_subplot(111)\n",
    "    ax.pie(fracs, explode=None, labels=labels, colors=('yellowgreen', 'gold', 'lightskyblue', 'lightcoral', 'brown'), autopct='%1.2f%%', shadow=True, startangle=90)\n",
    "   \n",
    "    fig = plt.figure(figsize=(7, 7))\n",
    "    fig.suptitle('TITLE', fontsize=14, fontweight='bold')\n",
    "    ax = fig.add_subplot(111)\n",
    "    ax.set_xlabel('X')\n",
    "    ax.set_ylabel('Y')\n",
    "    ax.bar((1, 2, 3, 4, 5, 6, 7, 8, 9, 10, 11, 12),(50, 122, 133, 144, 155, 199, 50, 10, 11, 37, 11, 16) , color='red', align='center')\n",
    "\n",
    "main(sc)"
   ]
  },
  {
   "cell_type": "code",
   "execution_count": null,
   "metadata": {
    "collapsed": true
   },
   "outputs": [],
   "source": []
  },
  {
   "cell_type": "code",
   "execution_count": null,
   "metadata": {
    "collapsed": true
   },
   "outputs": [],
   "source": []
  }
 ],
 "metadata": {
  "anaconda-cloud": {},
  "kernelspec": {
   "display_name": "Python [Root]",
   "language": "python",
   "name": "Python [Root]"
  },
  "language_info": {
   "codemirror_mode": {
    "name": "ipython",
    "version": 2
   },
   "file_extension": ".py",
   "mimetype": "text/x-python",
   "name": "python",
   "nbconvert_exporter": "python",
   "pygments_lexer": "ipython2",
   "version": "2.7.12"
  }
 },
 "nbformat": 4,
 "nbformat_minor": 0
}
