{
 "cells": [
  {
   "cell_type": "code",
   "execution_count": 8,
   "metadata": {
    "collapsed": false,
    "scrolled": true
   },
   "outputs": [
    {
     "ename": "NameError",
     "evalue": "name 'sc' is not defined",
     "output_type": "error",
     "traceback": [
      "\u001b[1;31m---------------------------------------------------------------------------\u001b[0m",
      "\u001b[1;31mNameError\u001b[0m                                 Traceback (most recent call last)",
      "\u001b[1;32m<ipython-input-8-905f99e47c39>\u001b[0m in \u001b[0;36m<module>\u001b[1;34m()\u001b[0m\n\u001b[0;32m     89\u001b[0m     \u001b[0max\u001b[0m\u001b[1;33m.\u001b[0m\u001b[0mpie\u001b[0m\u001b[1;33m(\u001b[0m\u001b[0mfracs\u001b[0m\u001b[1;33m,\u001b[0m \u001b[0mexplode\u001b[0m\u001b[1;33m=\u001b[0m\u001b[0mNone\u001b[0m\u001b[1;33m,\u001b[0m \u001b[0mlabels\u001b[0m\u001b[1;33m=\u001b[0m\u001b[0mlabels\u001b[0m\u001b[1;33m,\u001b[0m \u001b[0mcolors\u001b[0m\u001b[1;33m=\u001b[0m\u001b[1;33m(\u001b[0m\u001b[1;34m'r'\u001b[0m\u001b[1;33m,\u001b[0m \u001b[1;34m'g'\u001b[0m\u001b[1;33m,\u001b[0m \u001b[1;34m'b'\u001b[0m\u001b[1;33m,\u001b[0m \u001b[1;34m'c'\u001b[0m\u001b[1;33m,\u001b[0m \u001b[1;34m'm'\u001b[0m\u001b[1;33m,\u001b[0m \u001b[1;34m'y'\u001b[0m\u001b[1;33m)\u001b[0m\u001b[1;33m,\u001b[0m \u001b[0mautopct\u001b[0m\u001b[1;33m=\u001b[0m\u001b[1;34m'%1.2f%%'\u001b[0m\u001b[1;33m,\u001b[0m \u001b[0mshadow\u001b[0m\u001b[1;33m=\u001b[0m\u001b[0mTrue\u001b[0m\u001b[1;33m,\u001b[0m \u001b[0mstartangle\u001b[0m\u001b[1;33m=\u001b[0m\u001b[1;36m90\u001b[0m\u001b[1;33m)\u001b[0m\u001b[1;33m\u001b[0m\u001b[0m\n\u001b[0;32m     90\u001b[0m \u001b[1;33m\u001b[0m\u001b[0m\n\u001b[1;32m---> 91\u001b[1;33m \u001b[0mmain\u001b[0m\u001b[1;33m(\u001b[0m\u001b[0msc\u001b[0m\u001b[1;33m)\u001b[0m\u001b[1;33m\u001b[0m\u001b[0m\n\u001b[0m",
      "\u001b[1;31mNameError\u001b[0m: name 'sc' is not defined"
     ]
    }
   ],
   "source": [
    "import os\n",
    "import csv\n",
    "from StringIO import StringIO\n",
    "import time\n",
    "import matplotlib.pyplot as plt\n",
    "%matplotlib inline\n",
    " \n",
    "fileDir = os.path.dirname(os.path.realpath('__file__'))\n",
    " \n",
    "## Module Constants\n",
    "APP_NAME = \"Project_DeathRow\"\n",
    "EXEC_DB_DIR = \"\\execution_database.csv\"\n",
    "\n",
    "ELEC = \"Electrocution\"\n",
    "INJEC = \"Lethal Injection\"\n",
    "FIRE = \"Firing Squad\"\n",
    "HANG = \"Hanging\"\n",
    "GAS = \"Gas Chamber\"\n",
    "\n",
    "AS = \"Asian\"\n",
    "BL = \"Black\"\n",
    "LAT = \"Latino\"\n",
    "NA = \"Native American\"\n",
    "WH = \"White\"\n",
    "OT = \"Other\"\n",
    " \n",
    "def split(line):\n",
    "    \"\"\"\n",
    "   Operator function for splitting a line with csv module\n",
    "   \"\"\"\n",
    "    reader = csv.reader(StringIO(line))\n",
    "    return reader.next()\n",
    " \n",
    "def main(sc):\n",
    "    start_time = time.time()\n",
    "    \n",
    "    deathsByElec = sc.textFile(fileDir + EXEC_DB_DIR).filter(lambda l: ',' + ELEC +',' in l)\n",
    "    deathsByInjec = sc.textFile(fileDir + EXEC_DB_DIR).filter(lambda l: ',' + INJEC +',' in l)\n",
    "    deathsByFire = sc.textFile(fileDir + EXEC_DB_DIR).filter(lambda l: ',' + FIRE +',' in l)\n",
    "    deathsByHang = sc.textFile(fileDir + EXEC_DB_DIR).filter(lambda l: ',' + HANG +',' in l)\n",
    "    deathsByGas = sc.textFile(fileDir + EXEC_DB_DIR).filter(lambda l: ',' + GAS +',' in l)\n",
    "    \n",
    "    deathAsian = sc.textFile(fileDir + EXEC_DB_DIR).filter(lambda l: ',' + AS +',' in l)\n",
    "    deathBlack = sc.textFile(fileDir + EXEC_DB_DIR).filter(lambda l: ',' + BL +',' in l)\n",
    "    deathLatino = sc.textFile(fileDir + EXEC_DB_DIR).filter(lambda l: ',' + LAT +',' in l)\n",
    "    deathNative = sc.textFile(fileDir + EXEC_DB_DIR).filter(lambda l: ',' + NA +',' in l)\n",
    "    deathWhite = sc.textFile(fileDir + EXEC_DB_DIR).filter(lambda l: ',' + WH +',' in l)\n",
    "    deathOther = sc.textFile(fileDir + EXEC_DB_DIR).filter(lambda l: ',' + OT +',' in l)\n",
    "    \n",
    "    print(\"--- %s seconds ---\" % (time.time() - start_time))\n",
    "    \n",
    "    makePie(deathsByElec, deathsByInjec, deathsByFire, deathsByHang, deathsByGas)\n",
    "    makePieRaces(deathAsian, deathBlack, deathLatino, deathNative, deathWhite, deathOther)\n",
    " \n",
    "def makePie(deathsByElec, deathsByInjec, deathsByFire, deathsByHang, deathsByGas):\n",
    "    elec = deathsByElec.count()\n",
    "    injec = deathsByInjec.count()\n",
    "    fire = deathsByFire.count()\n",
    "    hang = deathsByHang.count()\n",
    "    gas = deathsByGas.count()\n",
    "    labels = [ELEC, INJEC, FIRE, HANG, GAS]\n",
    "    fracs = [elec, injec, fire, hanging, gas]\n",
    "   \n",
    "    fig = plt.figure(figsize=(7, 7))\n",
    "    fig.suptitle('Way of execution', fontsize=14, fontweight='bold')\n",
    "    ax = fig.add_subplot(111)\n",
    "    ax.pie(fracs, explode=None, labels=labels, colors=('r', 'g', 'b', 'c', 'm'), autopct='%1.2f%%', shadow=True, startangle=90)\n",
    "   \n",
    "    fig = plt.figure(figsize=(7, 7))\n",
    "    fig.suptitle('TITLE', fontsize=14, fontweight='bold')\n",
    "    ax = fig.add_subplot(111)\n",
    "    ax.set_xlabel('X')\n",
    "    ax.set_ylabel('Y')\n",
    "    ax.bar((1, 2, 3, 4, 5, 6, 7, 8, 9, 10, 11, 12),(50, 122, 133, 144, 155, 199, 50, 10, 11, 37, 11, 16) , color='red', align='center')\n",
    "\n",
    "def makePieRaces(r1, r2, r3, r4, r5, r6):\n",
    "    asian = r1.count()\n",
    "    black = r2.count()\n",
    "    latino = r3.count()\n",
    "    native = r4.count()\n",
    "    white = r5.count()\n",
    "    other = r6.count\n",
    "    labels = [AS, BL, LAT, NA, WH, OT]\n",
    "    fracs = [asian, black, latino, native, white, other]\n",
    "   \n",
    "    fig = plt.figure(figsize=(7, 7))\n",
    "    fig.suptitle('Race of person', fontsize=14, fontweight='bold')\n",
    "    ax = fig.add_subplot(111)\n",
    "    ax.pie(fracs, explode=None, labels=labels, colors=('r', 'g', 'b', 'c', 'm', 'y'), autopct='%1.2f%%', shadow=True, startangle=90)\n",
    "   \n",
    "main(sc)"
   ]
  },
  {
   "cell_type": "code",
   "execution_count": null,
   "metadata": {
    "collapsed": true
   },
   "outputs": [],
   "source": []
  },
  {
   "cell_type": "code",
   "execution_count": null,
   "metadata": {
    "collapsed": true
   },
   "outputs": [],
   "source": []
  }
 ],
 "metadata": {
  "anaconda-cloud": {},
  "kernelspec": {
   "display_name": "Python [Root]",
   "language": "python",
   "name": "Python [Root]"
  },
  "language_info": {
   "codemirror_mode": {
    "name": "ipython",
    "version": 2
   },
   "file_extension": ".py",
   "mimetype": "text/x-python",
   "name": "python",
   "nbconvert_exporter": "python",
   "pygments_lexer": "ipython2",
   "version": "2.7.12"
  }
 },
 "nbformat": 4,
 "nbformat_minor": 0
}
