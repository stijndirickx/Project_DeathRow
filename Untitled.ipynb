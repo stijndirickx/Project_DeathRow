{
 "cells": [
  {
   "cell_type": "code",
   "execution_count": 12,
   "metadata": {
    "collapsed": false
   },
   "outputs": [
    {
     "name": "stdout",
     "output_type": "stream",
     "text": [
      "['01/10/1986' 'James Roach' 25L 'm' 'White'\n",
      " '1 White Male(s)1 White Female(s)' 'SC' 'S' 'Electrocution' 'Yes' 'No'\n",
      " 'No' 'No' 'Richland']\n",
      "--- 0.00999999046326 seconds ---\n"
     ]
    }
   ],
   "source": [
    "import pandas as pd\n",
    "import os\n",
    "import time\n",
    "fileDir = os.path.dirname(os.path.realpath('__file__'))\n",
    "start_time = time.time()\n",
    "df_execution = pd.read_csv(fileDir + \"\\execution_database.csv\")\n",
    "# df_crime = pd.read_csv(fileDir + \"\\Crime_Alabama.csv\")\n",
    "print df_execution.values[0]\n",
    "print(\"--- %s seconds ---\" % (time.time() - start_time))"
   ]
  },
  {
   "cell_type": "code",
   "execution_count": null,
   "metadata": {
    "collapsed": true
   },
   "outputs": [],
   "source": []
  },
  {
   "cell_type": "code",
   "execution_count": null,
   "metadata": {
    "collapsed": true
   },
   "outputs": [],
   "source": []
  },
  {
   "cell_type": "code",
   "execution_count": null,
   "metadata": {
    "collapsed": true
   },
   "outputs": [],
   "source": []
  }
 ],
 "metadata": {
  "kernelspec": {
   "display_name": "Python [Root]",
   "language": "python",
   "name": "Python [Root]"
  },
  "language_info": {
   "codemirror_mode": {
    "name": "ipython",
    "version": 2
   },
   "file_extension": ".py",
   "mimetype": "text/x-python",
   "name": "python",
   "nbconvert_exporter": "python",
   "pygments_lexer": "ipython2",
   "version": "2.7.12"
  }
 },
 "nbformat": 4,
 "nbformat_minor": 0
}
